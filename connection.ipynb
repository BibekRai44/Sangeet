{
 "cells": [
  {
   "cell_type": "code",
   "execution_count": 211,
   "metadata": {},
   "outputs": [
    {
     "name": "stdout",
     "output_type": "stream",
     "text": [
      "Requirement already satisfied: pymongo in /Users/bibekrai/tensorflow-test/env/lib/python3.10/site-packages (4.6.3)\n",
      "Requirement already satisfied: dnspython<3.0.0,>=1.16.0 in /Users/bibekrai/tensorflow-test/env/lib/python3.10/site-packages (from pymongo) (2.6.1)\n",
      "\n",
      "\u001b[1m[\u001b[0m\u001b[34;49mnotice\u001b[0m\u001b[1;39;49m]\u001b[0m\u001b[39;49m A new release of pip is available: \u001b[0m\u001b[31;49m23.0.1\u001b[0m\u001b[39;49m -> \u001b[0m\u001b[32;49m24.0\u001b[0m\n",
      "\u001b[1m[\u001b[0m\u001b[34;49mnotice\u001b[0m\u001b[1;39;49m]\u001b[0m\u001b[39;49m To update, run: \u001b[0m\u001b[32;49mpip install --upgrade pip\u001b[0m\n",
      "Note: you may need to restart the kernel to use updated packages.\n"
     ]
    }
   ],
   "source": [
    "pip install pymongo"
   ]
  },
  {
   "cell_type": "code",
   "execution_count": 212,
   "metadata": {},
   "outputs": [],
   "source": [
    "import pandas as pd\n",
    "from pymongo import MongoClient"
   ]
  },
  {
   "cell_type": "code",
   "execution_count": 213,
   "metadata": {},
   "outputs": [],
   "source": [
    "def _connect_mongo(host, port, username, password, db):\n",
    "    if username and password:\n",
    "        mongo_uri = 'mongodb://%s:%s@%s:%s/%s' % (username, password, host, port, db)\n",
    "        conn = MongoClient(mongo_uri)\n",
    "    else:\n",
    "        conn = MongoClient(host, port)\n",
    "    return conn[db]"
   ]
  },
  {
   "cell_type": "code",
   "execution_count": 214,
   "metadata": {},
   "outputs": [],
   "source": [
    "def read_mongo(db, collection, query={}, host='localhost', port=27017, username=None, password=None, no_id=True):\n",
    "    db = _connect_mongo(host=host, port=port, username=username, password=password, db=db)\n",
    "    cursor = db[collection].find(query)\n",
    "    df =  pd.DataFrame(list(cursor))\n",
    "    if no_id:\n",
    "        del df['_id']\n",
    "    return df"
   ]
  },
  {
   "cell_type": "code",
   "execution_count": 215,
   "metadata": {},
   "outputs": [],
   "source": [
    "df=read_mongo('store', 'orders')   "
   ]
  },
  {
   "cell_type": "code",
   "execution_count": 216,
   "metadata": {},
   "outputs": [
    {
     "data": {
      "text/html": [
       "<div>\n",
       "<style scoped>\n",
       "    .dataframe tbody tr th:only-of-type {\n",
       "        vertical-align: middle;\n",
       "    }\n",
       "\n",
       "    .dataframe tbody tr th {\n",
       "        vertical-align: top;\n",
       "    }\n",
       "\n",
       "    .dataframe thead th {\n",
       "        text-align: right;\n",
       "    }\n",
       "</style>\n",
       "<table border=\"1\" class=\"dataframe\">\n",
       "  <thead>\n",
       "    <tr style=\"text-align: right;\">\n",
       "      <th></th>\n",
       "      <th>Artist Name</th>\n",
       "      <th>Genres</th>\n",
       "      <th>Popularity</th>\n",
       "      <th>Followers Count</th>\n",
       "    </tr>\n",
       "  </thead>\n",
       "  <tbody>\n",
       "    <tr>\n",
       "      <th>0</th>\n",
       "      <td>Dakpa Nepali</td>\n",
       "      <td>singing bowl</td>\n",
       "      <td>38</td>\n",
       "      <td>1404</td>\n",
       "    </tr>\n",
       "    <tr>\n",
       "      <th>1</th>\n",
       "      <td>Swoopna Suman</td>\n",
       "      <td>nepali pop</td>\n",
       "      <td>46</td>\n",
       "      <td>193318</td>\n",
       "    </tr>\n",
       "    <tr>\n",
       "      <th>2</th>\n",
       "      <td>Sajjan Raj Vaidya</td>\n",
       "      <td>nepali indie, tibetan pop</td>\n",
       "      <td>53</td>\n",
       "      <td>504272</td>\n",
       "    </tr>\n",
       "    <tr>\n",
       "      <th>3</th>\n",
       "      <td>Trishna Gurung</td>\n",
       "      <td>classic nepali pop, nepali pop</td>\n",
       "      <td>39</td>\n",
       "      <td>61402</td>\n",
       "    </tr>\n",
       "    <tr>\n",
       "      <th>4</th>\n",
       "      <td>Melina Rai</td>\n",
       "      <td>classic nepali pop, nepali pop</td>\n",
       "      <td>43</td>\n",
       "      <td>61665</td>\n",
       "    </tr>\n",
       "    <tr>\n",
       "      <th>...</th>\n",
       "      <td>...</td>\n",
       "      <td>...</td>\n",
       "      <td>...</td>\n",
       "      <td>...</td>\n",
       "    </tr>\n",
       "    <tr>\n",
       "      <th>495</th>\n",
       "      <td>Arjun Kaushal</td>\n",
       "      <td>NaN</td>\n",
       "      <td>9</td>\n",
       "      <td>111</td>\n",
       "    </tr>\n",
       "    <tr>\n",
       "      <th>496</th>\n",
       "      <td>Sashan Kandel</td>\n",
       "      <td>NaN</td>\n",
       "      <td>5</td>\n",
       "      <td>142</td>\n",
       "    </tr>\n",
       "    <tr>\n",
       "      <th>497</th>\n",
       "      <td>Nirmala Bhandari</td>\n",
       "      <td>NaN</td>\n",
       "      <td>8</td>\n",
       "      <td>41</td>\n",
       "    </tr>\n",
       "    <tr>\n",
       "      <th>498</th>\n",
       "      <td>Uday Raj Poudel</td>\n",
       "      <td>nepali indie</td>\n",
       "      <td>5</td>\n",
       "      <td>90</td>\n",
       "    </tr>\n",
       "    <tr>\n",
       "      <th>499</th>\n",
       "      <td>Dr Pilots</td>\n",
       "      <td>NaN</td>\n",
       "      <td>4</td>\n",
       "      <td>186</td>\n",
       "    </tr>\n",
       "  </tbody>\n",
       "</table>\n",
       "<p>500 rows × 4 columns</p>\n",
       "</div>"
      ],
      "text/plain": [
       "           Artist Name                          Genres  Popularity  \\\n",
       "0         Dakpa Nepali                    singing bowl          38   \n",
       "1        Swoopna Suman                      nepali pop          46   \n",
       "2    Sajjan Raj Vaidya       nepali indie, tibetan pop          53   \n",
       "3       Trishna Gurung  classic nepali pop, nepali pop          39   \n",
       "4           Melina Rai  classic nepali pop, nepali pop          43   \n",
       "..                 ...                             ...         ...   \n",
       "495      Arjun Kaushal                             NaN           9   \n",
       "496      Sashan Kandel                             NaN           5   \n",
       "497   Nirmala Bhandari                             NaN           8   \n",
       "498    Uday Raj Poudel                    nepali indie           5   \n",
       "499          Dr Pilots                             NaN           4   \n",
       "\n",
       "     Followers Count  \n",
       "0               1404  \n",
       "1             193318  \n",
       "2             504272  \n",
       "3              61402  \n",
       "4              61665  \n",
       "..               ...  \n",
       "495              111  \n",
       "496              142  \n",
       "497               41  \n",
       "498               90  \n",
       "499              186  \n",
       "\n",
       "[500 rows x 4 columns]"
      ]
     },
     "execution_count": 216,
     "metadata": {},
     "output_type": "execute_result"
    }
   ],
   "source": [
    "df"
   ]
  },
  {
   "cell_type": "code",
   "execution_count": 217,
   "metadata": {},
   "outputs": [
    {
     "data": {
      "text/plain": [
       "Index(['Artist Name', 'Genres', 'Popularity', 'Followers Count'], dtype='object')"
      ]
     },
     "execution_count": 217,
     "metadata": {},
     "output_type": "execute_result"
    }
   ],
   "source": [
    "df.columns"
   ]
  },
  {
   "cell_type": "code",
   "execution_count": 218,
   "metadata": {},
   "outputs": [
    {
     "data": {
      "text/plain": [
       "(500, 4)"
      ]
     },
     "execution_count": 218,
     "metadata": {},
     "output_type": "execute_result"
    }
   ],
   "source": [
    "df.shape"
   ]
  },
  {
   "cell_type": "code",
   "execution_count": 219,
   "metadata": {},
   "outputs": [
    {
     "data": {
      "text/plain": [
       "Artist Name        object\n",
       "Genres             object\n",
       "Popularity          int64\n",
       "Followers Count     int64\n",
       "dtype: object"
      ]
     },
     "execution_count": 219,
     "metadata": {},
     "output_type": "execute_result"
    }
   ],
   "source": [
    "df.dtypes"
   ]
  },
  {
   "cell_type": "code",
   "execution_count": 220,
   "metadata": {},
   "outputs": [
    {
     "data": {
      "text/plain": [
       "Artist Name          0\n",
       "Genres             246\n",
       "Popularity           0\n",
       "Followers Count      0\n",
       "dtype: int64"
      ]
     },
     "execution_count": 220,
     "metadata": {},
     "output_type": "execute_result"
    }
   ],
   "source": [
    "df.isnull().sum()"
   ]
  },
  {
   "cell_type": "code",
   "execution_count": 221,
   "metadata": {},
   "outputs": [
    {
     "data": {
      "text/plain": [
       "classic nepali pop                               73\n",
       "nepali pop                                       65\n",
       "classic nepali pop, nepali pop                   60\n",
       "nepali indie                                     14\n",
       "nephop                                           11\n",
       "classic nepali pop, lok dohori                    8\n",
       "himalayan folk                                    5\n",
       "lok dohori                                        3\n",
       "nepali indie, nepali rock                         3\n",
       "classic nepali pop, nepali rock                   2\n",
       "nepali rock                                       2\n",
       "classic nepali pop, lok dohori, nepali pop        2\n",
       "nepali pop, tibetan pop                           1\n",
       "classic nepali pop, nepali indie, nepali pop      1\n",
       "classic nepali pop, nepali indie, nepali rock     1\n",
       "himalayan folk, nepali pop                        1\n",
       "nepali indie, tibetan pop                         1\n",
       "singing bowl                                      1\n",
       "Name: Genres, dtype: int64"
      ]
     },
     "execution_count": 221,
     "metadata": {},
     "output_type": "execute_result"
    }
   ],
   "source": [
    "df['Genres'].value_counts()"
   ]
  },
  {
   "cell_type": "code",
   "execution_count": 222,
   "metadata": {},
   "outputs": [],
   "source": [
    "df['Artist Name'].replace('Népal archived','Nepal archived',inplace=True)\n",
    "df['Artist Name'].replace('CD Vijaya Adhikari','Vijaya Adhikari',inplace=True)\n",
    "df['Artist Name'].replace('Music.Npal','Music Nepal',inplace=True)\n",
    "df['Artist Name'].replace('Bro.- Sis. Band','Bro sis Band',inplace=True)\n",
    "df['Artist Name'].replace('C.O.D','COD',inplace=True)\n",
    "df['Artist Name'].replace('Sur - Sudha','Sur Sudha',inplace=True)\n",
    "df['Artist Name'].replace('PranitAcharjuNewar','Pranit Acharju Newar',inplace=True)\n",
    "df['Artist Name'].replace('Mr.Hyozu','Mr Hyozu',inplace=True)\n",
    "df['Artist Name'].replace('Nepali Lo-Fi','Nepali Lofi',inplace=True)\n",
    "df['Artist Name'].replace('M-zee Trix','Mzee Trix',inplace=True)\n",
    "df['Genres'].replace('classic nepali pop, nepali pop','nepali pop',inplace=True)\n",
    "df['Genres'].replace('nepali indie, tibetan pop','nepali indie',inplace=True)\n",
    "df['Genres'].replace('himalayan folk, nepali pop', 'himalayan folk',inplace=True)\n",
    "df['Genres'].replace('classic nepali pop, lok dohori, nepali pop','lok dohori',inplace=True)\n",
    "df['Genres'].replace('classic nepali pop, nepali indie, nepali rock','nepali rock',inplace=True)\n",
    "df['Genres'].replace('classic nepali pop, nepali indie, nepali pop','nepali pop',inplace=True)\n",
    "df['Genres'].replace('classic nepali pop','nepali pop',inplace=True)\n",
    "df['Genres'].replace('nepali pop, tibetan pop','nepali pop',inplace=True)\n",
    "df['Genres'].replace('classic nepali pop, nepali rock','nepali rock',inplace=True)\n",
    "df['Genres'].replace('nepali indie, nepali rock','nepali rock',inplace=True)\n",
    "df['Genres'].replace('classic nepali pop, lok dohori','lok dohori',inplace=True)\n",
    "df['Genres'].replace('nepali indie, nepali rock','nepali indie',inplace=True)\n"
   ]
  },
  {
   "cell_type": "code",
   "execution_count": 223,
   "metadata": {},
   "outputs": [],
   "source": [
    "modern_classical_artist_names = ['Vijaya Adhikari', 'Pranit Acharju Newar', 'Narayan Gopal','Arun Thapa','Udit Naran Jha',\n",
    "                                 'Deepak Bajracharya','Tara Devi']\n",
    "df.loc[df['Artist Name'].isin(modern_classical_artist_names), 'Genres'] = 'modern classical'"
   ]
  },
  {
   "cell_type": "code",
   "execution_count": 224,
   "metadata": {},
   "outputs": [],
   "source": [
    "music_distributor_names = ['Music Nepal', 'Anxmus Music', 'Changa Productions','changa productions','Nepali Lofi']\n",
    "df.loc[df['Artist Name'].isin(music_distributor_names), 'Genres'] = 'music distributor'"
   ]
  },
  {
   "cell_type": "code",
   "execution_count": 225,
   "metadata": {},
   "outputs": [],
   "source": [
    "folk_rock_artist_names = ['Nepathya','Ethos Band']\n",
    "df.loc[df['Artist Name'].isin(folk_rock_artist_names), 'Genres'] = 'folk rock'"
   ]
  },
  {
   "cell_type": "code",
   "execution_count": 226,
   "metadata": {},
   "outputs": [],
   "source": [
    "rap_artist_names = ['Nepal archived','VTEN','Dong','TUKI MUSIC','SACAR aka Lil Buddha','Yama Buddha','Krizn','Girish Khatiwada'\n",
    "                    ,'Andazification','Manas Ghale','Mzee Trix','Pakku Panda','NepMelo','Jhapalish','5:55']\n",
    "df.loc[df['Artist Name'].isin(rap_artist_names), 'Genres'] = 'rap'"
   ]
  },
  {
   "cell_type": "code",
   "execution_count": 227,
   "metadata": {},
   "outputs": [],
   "source": [
    "nepali_pop_artist_names = ['Sajjan Raj Vaidya','Mr Hyozu','COD','Sugam Pokharel','Almoda Rana Upreti','Yabesh Thapa','John Rai',\n",
    "                           'Jibesh Gurung','Aastha Raut']\n",
    "df.loc[df['Artist Name'].isin(nepali_pop_artist_names), 'Genres'] = 'nepali pop'"
   ]
  },
  {
   "cell_type": "code",
   "execution_count": 228,
   "metadata": {},
   "outputs": [],
   "source": [
    "lok_dohori_artist_names = ['NepMelo','Anju Pant','Anju Panta']\n",
    "df.loc[df['Artist Name'].isin(lok_dohori_artist_names), 'Genres'] = 'lok dohori'"
   ]
  },
  {
   "cell_type": "code",
   "execution_count": 229,
   "metadata": {},
   "outputs": [],
   "source": [
    "hard_rock_artist_names = ['Nepal Death']\n",
    "df.loc[df['Artist Name'].isin(hard_rock_artist_names), 'Genres'] = 'hard rock'"
   ]
  },
  {
   "cell_type": "code",
   "execution_count": 230,
   "metadata": {},
   "outputs": [
    {
     "data": {
      "text/plain": [
       "Artist Name          0\n",
       "Genres             221\n",
       "Popularity           0\n",
       "Followers Count      0\n",
       "dtype: int64"
      ]
     },
     "execution_count": 230,
     "metadata": {},
     "output_type": "execute_result"
    }
   ],
   "source": [
    "df.isnull().sum()"
   ]
  },
  {
   "cell_type": "code",
   "execution_count": 231,
   "metadata": {},
   "outputs": [],
   "source": [
    "df['Genres'].fillna('cover artist',inplace=True)"
   ]
  },
  {
   "cell_type": "code",
   "execution_count": 232,
   "metadata": {},
   "outputs": [
    {
     "data": {
      "text/html": [
       "<div>\n",
       "<style scoped>\n",
       "    .dataframe tbody tr th:only-of-type {\n",
       "        vertical-align: middle;\n",
       "    }\n",
       "\n",
       "    .dataframe tbody tr th {\n",
       "        vertical-align: top;\n",
       "    }\n",
       "\n",
       "    .dataframe thead th {\n",
       "        text-align: right;\n",
       "    }\n",
       "</style>\n",
       "<table border=\"1\" class=\"dataframe\">\n",
       "  <thead>\n",
       "    <tr style=\"text-align: right;\">\n",
       "      <th></th>\n",
       "      <th>Artist Name</th>\n",
       "      <th>Genres</th>\n",
       "      <th>Popularity</th>\n",
       "      <th>Followers Count</th>\n",
       "    </tr>\n",
       "  </thead>\n",
       "  <tbody>\n",
       "    <tr>\n",
       "      <th>0</th>\n",
       "      <td>Dakpa Nepali</td>\n",
       "      <td>singing bowl</td>\n",
       "      <td>38</td>\n",
       "      <td>1404</td>\n",
       "    </tr>\n",
       "    <tr>\n",
       "      <th>1</th>\n",
       "      <td>Swoopna Suman</td>\n",
       "      <td>nepali pop</td>\n",
       "      <td>46</td>\n",
       "      <td>193318</td>\n",
       "    </tr>\n",
       "    <tr>\n",
       "      <th>2</th>\n",
       "      <td>Sajjan Raj Vaidya</td>\n",
       "      <td>nepali pop</td>\n",
       "      <td>53</td>\n",
       "      <td>504272</td>\n",
       "    </tr>\n",
       "    <tr>\n",
       "      <th>3</th>\n",
       "      <td>Trishna Gurung</td>\n",
       "      <td>nepali pop</td>\n",
       "      <td>39</td>\n",
       "      <td>61402</td>\n",
       "    </tr>\n",
       "    <tr>\n",
       "      <th>4</th>\n",
       "      <td>Melina Rai</td>\n",
       "      <td>nepali pop</td>\n",
       "      <td>43</td>\n",
       "      <td>61665</td>\n",
       "    </tr>\n",
       "    <tr>\n",
       "      <th>...</th>\n",
       "      <td>...</td>\n",
       "      <td>...</td>\n",
       "      <td>...</td>\n",
       "      <td>...</td>\n",
       "    </tr>\n",
       "    <tr>\n",
       "      <th>495</th>\n",
       "      <td>Arjun Kaushal</td>\n",
       "      <td>cover artist</td>\n",
       "      <td>9</td>\n",
       "      <td>111</td>\n",
       "    </tr>\n",
       "    <tr>\n",
       "      <th>496</th>\n",
       "      <td>Sashan Kandel</td>\n",
       "      <td>cover artist</td>\n",
       "      <td>5</td>\n",
       "      <td>142</td>\n",
       "    </tr>\n",
       "    <tr>\n",
       "      <th>497</th>\n",
       "      <td>Nirmala Bhandari</td>\n",
       "      <td>cover artist</td>\n",
       "      <td>8</td>\n",
       "      <td>41</td>\n",
       "    </tr>\n",
       "    <tr>\n",
       "      <th>498</th>\n",
       "      <td>Uday Raj Poudel</td>\n",
       "      <td>nepali indie</td>\n",
       "      <td>5</td>\n",
       "      <td>90</td>\n",
       "    </tr>\n",
       "    <tr>\n",
       "      <th>499</th>\n",
       "      <td>Dr Pilots</td>\n",
       "      <td>cover artist</td>\n",
       "      <td>4</td>\n",
       "      <td>186</td>\n",
       "    </tr>\n",
       "  </tbody>\n",
       "</table>\n",
       "<p>500 rows × 4 columns</p>\n",
       "</div>"
      ],
      "text/plain": [
       "           Artist Name        Genres  Popularity  Followers Count\n",
       "0         Dakpa Nepali  singing bowl          38             1404\n",
       "1        Swoopna Suman    nepali pop          46           193318\n",
       "2    Sajjan Raj Vaidya    nepali pop          53           504272\n",
       "3       Trishna Gurung    nepali pop          39            61402\n",
       "4           Melina Rai    nepali pop          43            61665\n",
       "..                 ...           ...         ...              ...\n",
       "495      Arjun Kaushal  cover artist           9              111\n",
       "496      Sashan Kandel  cover artist           5              142\n",
       "497   Nirmala Bhandari  cover artist           8               41\n",
       "498    Uday Raj Poudel  nepali indie           5               90\n",
       "499          Dr Pilots  cover artist           4              186\n",
       "\n",
       "[500 rows x 4 columns]"
      ]
     },
     "execution_count": 232,
     "metadata": {},
     "output_type": "execute_result"
    }
   ],
   "source": [
    "df"
   ]
  },
  {
   "cell_type": "code",
   "execution_count": 233,
   "metadata": {},
   "outputs": [
    {
     "data": {
      "text/plain": [
       "Artist Name        0\n",
       "Genres             0\n",
       "Popularity         0\n",
       "Followers Count    0\n",
       "dtype: int64"
      ]
     },
     "execution_count": 233,
     "metadata": {},
     "output_type": "execute_result"
    }
   ],
   "source": [
    "df.isnull().sum()"
   ]
  },
  {
   "cell_type": "code",
   "execution_count": 234,
   "metadata": {},
   "outputs": [],
   "source": [
    "df.to_csv('new_data.csv',index=True)"
   ]
  },
  {
   "cell_type": "code",
   "execution_count": 235,
   "metadata": {},
   "outputs": [
    {
     "data": {
      "text/plain": [
       "cover artist         221\n",
       "nepali pop           204\n",
       "lok dohori            17\n",
       "rap                   14\n",
       "nepali indie          13\n",
       "modern classical       8\n",
       "nepali rock            8\n",
       "himalayan folk         6\n",
       "music distributor      5\n",
       "folk rock              2\n",
       "singing bowl           1\n",
       "hard rock              1\n",
       "Name: Genres, dtype: int64"
      ]
     },
     "execution_count": 235,
     "metadata": {},
     "output_type": "execute_result"
    }
   ],
   "source": [
    "df['Genres'].value_counts()"
   ]
  },
  {
   "cell_type": "code",
   "execution_count": null,
   "metadata": {},
   "outputs": [],
   "source": []
  }
 ],
 "metadata": {
  "kernelspec": {
   "display_name": "Python 3",
   "language": "python",
   "name": "python3"
  },
  "language_info": {
   "codemirror_mode": {
    "name": "ipython",
    "version": 3
   },
   "file_extension": ".py",
   "mimetype": "text/x-python",
   "name": "python",
   "nbconvert_exporter": "python",
   "pygments_lexer": "ipython3",
   "version": "3.10.6"
  }
 },
 "nbformat": 4,
 "nbformat_minor": 2
}
